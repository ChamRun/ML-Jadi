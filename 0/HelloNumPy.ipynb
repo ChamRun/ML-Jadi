{
 "cells": [
  {
   "cell_type": "code",
   "execution_count": 1,
   "metadata": {
    "collapsed": true
   },
   "outputs": [
    {
     "data": {
      "text/plain": "array(5)"
     },
     "execution_count": 1,
     "metadata": {},
     "output_type": "execute_result"
    }
   ],
   "source": [
    "import numpy as np\n",
    "\n",
    "my_array = np.array(5)\n",
    "my_array\n"
   ]
  },
  {
   "cell_type": "code",
   "execution_count": 7,
   "outputs": [
    {
     "data": {
      "text/plain": "array([[ 0,  1,  2,  3],\n       [ 4,  5,  6,  7],\n       [ 8,  9, 10, 11]])"
     },
     "execution_count": 7,
     "metadata": {},
     "output_type": "execute_result"
    }
   ],
   "source": [
    "my_array = np.arange(12)\n",
    "matrix0 = my_array.reshape(3, 4)\n",
    "matrix0\n"
   ],
   "metadata": {
    "collapsed": false,
    "pycharm": {
     "name": "#%%\n"
    }
   }
  },
  {
   "cell_type": "code",
   "execution_count": 11,
   "outputs": [
    {
     "data": {
      "text/plain": "array([[[ 0,  1],\n        [ 2,  3]],\n\n       [[ 4,  5],\n        [ 6,  7]],\n\n       [[ 8,  9],\n        [10, 11]]])"
     },
     "execution_count": 11,
     "metadata": {},
     "output_type": "execute_result"
    }
   ],
   "source": [
    "matrix1 = my_array.reshape(3, 2, 2)\n",
    "matrix1"
   ],
   "metadata": {
    "collapsed": false,
    "pycharm": {
     "name": "#%%\n"
    }
   }
  },
  {
   "cell_type": "code",
   "execution_count": 9,
   "outputs": [
    {
     "data": {
      "text/plain": "array([[[ 0,  1,  2],\n        [ 3,  4,  5]],\n\n       [[ 6,  7,  8],\n        [ 9, 10, 11]]])"
     },
     "execution_count": 9,
     "metadata": {},
     "output_type": "execute_result"
    }
   ],
   "source": [
    "matrix1 = my_array.reshape(2, 2, 3)\n",
    "matrix1"
   ],
   "metadata": {
    "collapsed": false,
    "pycharm": {
     "name": "#%%\n"
    }
   }
  },
  {
   "cell_type": "code",
   "execution_count": 13,
   "outputs": [
    {
     "name": "stdout",
     "output_type": "stream",
     "text": [
      "shape: (3, 2, 2)\n",
      "dim: 3\n",
      "siz3: 12\n",
      "type: int32\n"
     ]
    }
   ],
   "source": [
    "print('shape: ' + str(matrix1.shape) + '\\ndim: ' + str(matrix1.ndim) +\n",
    "      '\\nsiz3: ' + str(matrix1.size) + '\\ntype: ' + str(matrix1.dtype))"
   ],
   "metadata": {
    "collapsed": false,
    "pycharm": {
     "name": "#%%\n"
    }
   }
  },
  {
   "cell_type": "code",
   "execution_count": 18,
   "outputs": [
    {
     "data": {
      "text/plain": "array([[0., 0., 0.]])"
     },
     "execution_count": 18,
     "metadata": {},
     "output_type": "execute_result"
    }
   ],
   "source": [
    "zeros_matrix = np.zeros((1, 3))\n",
    "zeros_matrix"
   ],
   "metadata": {
    "collapsed": false,
    "pycharm": {
     "name": "#%%\n"
    }
   }
  },
  {
   "cell_type": "code",
   "execution_count": 17,
   "outputs": [
    {
     "data": {
      "text/plain": "array([[1.],\n       [1.],\n       [1.]])"
     },
     "execution_count": 17,
     "metadata": {},
     "output_type": "execute_result"
    }
   ],
   "source": [
    "ones_matrix = np.ones((3, 1))\n",
    "ones_matrix"
   ],
   "metadata": {
    "collapsed": false,
    "pycharm": {
     "name": "#%%\n"
    }
   }
  },
  {
   "cell_type": "code",
   "execution_count": 22,
   "outputs": [
    {
     "name": "stdout",
     "output_type": "stream",
     "text": [
      "[[0. 0. 0.]\n",
      " [0. 0. 0.]\n",
      " [0. 0. 0.]]\n",
      "\n",
      "[[0. 0. 0.]\n",
      " [0. 0. 0.]\n",
      " [0. 0. 0.]]\n"
     ]
    }
   ],
   "source": [
    "print(ones_matrix * zeros_matrix)\n",
    "print()\n",
    "print(zeros_matrix * ones_matrix)"
   ],
   "metadata": {
    "collapsed": false,
    "pycharm": {
     "name": "#%%\n"
    }
   }
  },
  {
   "cell_type": "code",
   "execution_count": 23,
   "outputs": [
    {
     "data": {
      "text/plain": "array([ 7, 17, 27])"
     },
     "execution_count": 23,
     "metadata": {},
     "output_type": "execute_result"
    }
   ],
   "source": [
    "a = np.array([10, 20, 30])\n",
    "b = np.array(3)\n",
    "a - b\n"
   ],
   "metadata": {
    "collapsed": false,
    "pycharm": {
     "name": "#%%\n"
    }
   }
  },
  {
   "cell_type": "code",
   "execution_count": 24,
   "outputs": [
    {
     "data": {
      "text/plain": "array([ True, False, False])"
     },
     "execution_count": 24,
     "metadata": {},
     "output_type": "execute_result"
    }
   ],
   "source": [
    "a < 20\n"
   ],
   "metadata": {
    "collapsed": false,
    "pycharm": {
     "name": "#%%\n"
    }
   }
  },
  {
   "cell_type": "code",
   "execution_count": 25,
   "outputs": [
    {
     "data": {
      "text/plain": "array([[0.15387671, 0.48980248, 0.07758444, 0.34055992],\n       [0.28353788, 0.96079186, 0.51968047, 0.35121975],\n       [0.80406148, 0.50950233, 0.04666402, 0.40813839]])"
     },
     "execution_count": 25,
     "metadata": {},
     "output_type": "execute_result"
    }
   ],
   "source": [
    "np.random.rand(3, 4)"
   ],
   "metadata": {
    "collapsed": false,
    "pycharm": {
     "name": "#%%\n"
    }
   }
  },
  {
   "cell_type": "code",
   "execution_count": 27,
   "outputs": [
    {
     "data": {
      "text/plain": "array([[-0.88429833,  0.93644164, -0.74678501, -0.50883157,  0.75152072,\n         0.72363298, -0.55507174,  0.0498601 ,  1.47526237, -0.32524785],\n       [ 2.66654593, -0.86576344,  1.41019083,  1.22823867, -0.89688456,\n        -1.82944697,  0.43544908,  0.12572374, -1.14668956, -0.11767779],\n       [ 0.87688905,  1.08983487, -0.49876458, -0.01569867, -0.14629484,\n        -0.30153981,  1.23798665, -1.83080147,  0.39267949, -1.1058653 ],\n       [ 0.09009967,  0.05673727, -0.8859144 , -0.48939623,  0.15145365,\n        -0.2082311 ,  0.47384219, -0.73626357, -0.05126657,  0.04458665],\n       [-2.12824883,  1.27726235,  0.05758556, -1.09753993,  0.7553957 ,\n         0.69280771,  0.17737378,  0.97441026,  0.21324094,  0.79448823],\n       [-2.54156956, -0.57682072, -0.84077666, -0.93987499, -1.31091574,\n        -0.34830057, -0.00990587,  2.44391364, -0.50632515,  0.12683191],\n       [-0.86988838,  0.89202746, -0.35281504,  1.67165616, -1.39523961,\n        -0.76736153,  0.29500302,  0.05235149, -1.06953685, -1.87844028],\n       [-1.10926167, -0.68056394, -1.04039173, -1.39168274,  0.55237631,\n        -0.08283107,  1.26107753,  0.79634704, -0.67881787, -1.54577543],\n       [ 0.44820826, -1.92106607,  1.9222316 , -0.52088162, -0.79906983,\n         0.49402275, -0.38005663,  0.52236638,  0.01188582,  0.87783024],\n       [-0.67848261,  0.51836796, -0.69240833,  0.72097441, -0.73510762,\n        -1.35018259, -0.39913794, -0.07356596, -0.19728691,  1.47052021]])"
     },
     "execution_count": 27,
     "metadata": {},
     "output_type": "execute_result"
    }
   ],
   "source": [
    "np.random.randn(10 , 10)"
   ],
   "metadata": {
    "collapsed": false,
    "pycharm": {
     "name": "#%%\n"
    }
   }
  },
  {
   "cell_type": "code",
   "execution_count": 29,
   "outputs": [
    {
     "data": {
      "text/plain": "3"
     },
     "execution_count": 29,
     "metadata": {},
     "output_type": "execute_result"
    }
   ],
   "source": [
    "np.random.randint(2, 10)"
   ],
   "metadata": {
    "collapsed": false,
    "pycharm": {
     "name": "#%%\n"
    }
   }
  },
  {
   "cell_type": "code",
   "execution_count": 30,
   "outputs": [
    {
     "data": {
      "text/plain": "nan"
     },
     "execution_count": 30,
     "metadata": {},
     "output_type": "execute_result"
    }
   ],
   "source": [
    "np.nan"
   ],
   "metadata": {
    "collapsed": false,
    "pycharm": {
     "name": "#%%\n"
    }
   }
  }
 ],
 "metadata": {
  "kernelspec": {
   "display_name": "Python 3",
   "language": "python",
   "name": "python3"
  },
  "language_info": {
   "codemirror_mode": {
    "name": "ipython",
    "version": 2
   },
   "file_extension": ".py",
   "mimetype": "text/x-python",
   "name": "python",
   "nbconvert_exporter": "python",
   "pygments_lexer": "ipython2",
   "version": "2.7.6"
  }
 },
 "nbformat": 4,
 "nbformat_minor": 0
}