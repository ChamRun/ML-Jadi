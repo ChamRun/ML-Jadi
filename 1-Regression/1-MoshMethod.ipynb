{
 "cells": [
  {
   "cell_type": "code",
   "execution_count": 1,
   "source": [
    "import pandas\r\n",
    "from sklearn.tree import DecisionTreeClassifier\r\n",
    "from sklearn.model_selection import train_test_split\r\n",
    "from sklearn.metrics import accuracy_score\r\n",
    "import matplotlib.pyplot as plt\r\n",
    "\r\n",
    "\r\n",
    "df = pandas.read_csv(\"FuelConsumption.csv\")\r\n",
    "\r\n",
    "# X = df.drop(columns=['CO2EMISSIONS', 'MODELYEAR', 'MAKE', 'MODEL', 'VEHICLECLASS', 'TRANSMISSION', 'FUELTYPE'])\r\n",
    "# X = df[['ENGINESIZE', 'CYLINDERS', 'FUELCONSUMPTION_CITY', 'FUELCONSUMPTION_HWY', 'FUELCONSUMPTION_COMB', 'FUELCONSUMPTION_COMB_MPG']]\r\n",
    "# X = df[['ENGINESIZE', 'CYLINDERS', 'FUELCONSUMPTION_CITY', 'FUELCONSUMPTION_HWY', 'FUELCONSUMPTION_COMB']]\r\n",
    "X = df[['ENGINESIZE', 'CYLINDERS', 'FUELCONSUMPTION_COMB']]\r\n",
    "\r\n",
    "# y = Our machine will guess this\r\n",
    "y = df[\"CO2EMISSIONS\"]\r\n",
    "\r\n",
    "average = 0\r\n",
    "\r\n",
    "for i in range(10):\r\n",
    "    X_train, X_test, y_train, y_test = train_test_split(X, y, test_size = 0.2)\r\n",
    "\r\n",
    "    model = DecisionTreeClassifier()\r\n",
    "    model.fit(X_train, y_train)\r\n",
    "\r\n",
    "    result = model.predict(X_test)\r\n",
    "\r\n",
    "    plt.plot(y_test, result, 'or')\r\n",
    "    average += accuracy_score(y_test, result)\r\n",
    "\r\n",
    "average /= 10\r\n",
    "print(average)\r\n",
    "\r\n"
   ],
   "outputs": [
    {
     "output_type": "stream",
     "name": "stdout",
     "text": [
      "0.8929906542056075\n"
     ]
    },
    {
     "output_type": "display_data",
     "data": {
      "image/png": "[encoded data removed]",
      "text/plain": [
       "<Figure size 432x288 with 1 Axes>"
      ]
     },
     "metadata": {
      "needs_background": "light"
     }
    }
   ],
   "metadata": {}
  },
  {
   "cell_type": "code",
   "execution_count": null,
   "source": [],
   "outputs": [],
   "metadata": {}
  }
 ],
 "metadata": {
  "orig_nbformat": 4,
  "language_info": {
   "name": "python",
   "version": "3.9.6",
   "mimetype": "text/x-python",
   "codemirror_mode": {
    "name": "ipython",
    "version": 3
   },
   "pygments_lexer": "ipython3",
   "nbconvert_exporter": "python",
   "file_extension": ".py"
  },
  "kernelspec": {
   "name": "python3",
   "display_name": "Python 3.9.6 64-bit"
  },
  "interpreter": {
   "hash": "ac59ebe37160ed0dfa835113d9b8498d9f09ceb179beaac4002f036b9467c963"
  }
 },
 "nbformat": 4,
 "nbformat_minor": 2
}